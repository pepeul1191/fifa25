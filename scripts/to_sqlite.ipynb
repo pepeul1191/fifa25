{
 "cells": [
  {
   "cell_type": "markdown",
   "metadata": {},
   "source": [
    "# Scripts para crear los archivos txt con los inserts"
   ]
  },
  {
   "cell_type": "markdown",
   "metadata": {},
   "source": [
    "Importanción de librerías:"
   ]
  },
  {
   "cell_type": "code",
   "execution_count": 99,
   "metadata": {},
   "outputs": [],
   "source": [
    "import pandas as pd\n",
    "import numpy as np\n",
    "from itertools import chain"
   ]
  },
  {
   "cell_type": "markdown",
   "metadata": {},
   "source": [
    "Ruta global y lectura de los datasets"
   ]
  },
  {
   "cell_type": "code",
   "execution_count": 100,
   "metadata": {},
   "outputs": [
    {
     "name": "stderr",
     "output_type": "stream",
     "text": [
      "C:\\Users\\Yacky Ramírez\\AppData\\Local\\Temp\\ipykernel_21240\\516013953.py:4: DtypeWarning: Columns (33) have mixed types. Specify dtype option on import or set low_memory=False.\n",
      "  df_all = pd.read_csv(f'{BASE_PATH}all_players.csv', sep=',')\n"
     ]
    },
    {
     "data": {
      "text/plain": [
       "Index(['Unnamed: 0', 'Rank', 'Name', 'OVR', 'PAC', 'SHO', 'PAS', 'DRI', 'DEF',\n",
       "       'PHY', 'Acceleration', 'Sprint Speed', 'Positioning', 'Finishing',\n",
       "       'Shot Power', 'Long Shots', 'Volleys', 'Penalties', 'Vision',\n",
       "       'Crossing', 'Free Kick Accuracy', 'Short Passing', 'Long Passing',\n",
       "       'Curve', 'Dribbling', 'Agility', 'Balance', 'Reactions', 'Ball Control',\n",
       "       'Composure', 'Interceptions', 'Heading Accuracy', 'Def Awareness',\n",
       "       'Standing Tackle', 'Sliding Tackle', 'Jumping', 'Stamina', 'Strength',\n",
       "       'Aggression', 'Position', 'Weak foot', 'Skill moves', 'Preferred foot',\n",
       "       'Height', 'Weight', 'Alternative positions', 'Age', 'Nation', 'League',\n",
       "       'Team', 'play style', 'url', 'GK Diving', 'GK Handling', 'GK Kicking',\n",
       "       'GK Positioning', 'GK Reflexes'],\n",
       "      dtype='object')"
      ]
     },
     "execution_count": 100,
     "metadata": {},
     "output_type": "execute_result"
    }
   ],
   "source": [
    "BASE_PATH = './../docs/'\n",
    "df_famales = pd.read_csv(f'{BASE_PATH}female_players.csv', sep=',')\n",
    "df_males = pd.read_csv(f'{BASE_PATH}male_players.csv', sep=',')\n",
    "df_all = pd.read_csv(f'{BASE_PATH}all_players.csv', sep=',')\n",
    "df_all.columns"
   ]
  },
  {
   "cell_type": "markdown",
   "metadata": {},
   "source": [
    "#### Llenar play_styles"
   ]
  },
  {
   "cell_type": "markdown",
   "metadata": {},
   "source": [
    "Vamos a leer los <b>play style</b> y los vamos a colocar en una lista. Esta lista no deberá incluir repetidos."
   ]
  },
  {
   "cell_type": "code",
   "execution_count": 101,
   "metadata": {},
   "outputs": [],
   "source": [
    "rows = df_all['play style'].str.split(',')\n",
    "play_styles = []\n",
    "for array_str in rows:\n",
    "    if isinstance(array_str, list):\n",
    "        for style in array_str:\n",
    "            # remove '* '\n",
    "            if style[0] == ' ':\n",
    "                style = style[1:]\n",
    "            # remove ' *'\n",
    "            if style[len(style) - 1] == ' ':\n",
    "                style = style[:-1]\n",
    "            if style not in play_styles:\n",
    "                play_styles.append(style)"
   ]
  },
  {
   "cell_type": "markdown",
   "metadata": {},
   "source": [
    "Generar un .txt con los inserts con el contenido de la lista.\n",
    "```sql\n",
    "CREATE TABLE play_styles (\n",
    "  id\tINTEGER NOT NULL PRIMARY KEY AUTOINCREMENT,\n",
    "  name\tVARCHAR(30)\n",
    ");\n",
    "```"
   ]
  },
  {
   "cell_type": "code",
   "execution_count": 106,
   "metadata": {},
   "outputs": [],
   "source": [
    "text = '-- migrate:up \\n\\n'\n",
    "i = 1\n",
    "for style in play_styles:\n",
    "    text = text + f\"INSERT INTO play_styles (id, name) VALUES ({i}, '{style}');\\n\"\n",
    "    i = i + 1\n",
    "text = text + '\\n-- migrate:down \\n\\nDELETE FROM play_styles;'\n",
    "with open(f'{BASE_PATH}play_styles_inserts.txt', 'w') as archivo:\n",
    "    archivo.write(text)"
   ]
  }
 ],
 "metadata": {
  "kernelspec": {
   "display_name": "env",
   "language": "python",
   "name": "python3"
  },
  "language_info": {
   "codemirror_mode": {
    "name": "ipython",
    "version": 3
   },
   "file_extension": ".py",
   "mimetype": "text/x-python",
   "name": "python",
   "nbconvert_exporter": "python",
   "pygments_lexer": "ipython3",
   "version": "3.12.3"
  }
 },
 "nbformat": 4,
 "nbformat_minor": 2
}
