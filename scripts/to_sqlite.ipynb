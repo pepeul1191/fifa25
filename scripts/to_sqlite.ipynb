{
 "cells": [
  {
   "cell_type": "markdown",
   "metadata": {},
   "source": [
    "# Scripts para crear los archivos txt con los inserts"
   ]
  },
  {
   "cell_type": "markdown",
   "metadata": {},
   "source": [
    "Importanción de librerías:"
   ]
  },
  {
   "cell_type": "code",
   "execution_count": 83,
   "metadata": {},
   "outputs": [],
   "source": [
    "import pandas as pd\n",
    "import numpy as np\n",
    "from itertools import chain\n",
    "from database import Database\n",
    "\n",
    "db = Database('../db/fifa25.db')"
   ]
  },
  {
   "cell_type": "markdown",
   "metadata": {},
   "source": [
    "Ruta global y lectura de los datasets"
   ]
  },
  {
   "cell_type": "code",
   "execution_count": 84,
   "metadata": {},
   "outputs": [
    {
     "name": "stderr",
     "output_type": "stream",
     "text": [
      "/tmp/ipykernel_33613/516013953.py:4: DtypeWarning: Columns (33) have mixed types. Specify dtype option on import or set low_memory=False.\n",
      "  df_all = pd.read_csv(f'{BASE_PATH}all_players.csv', sep=',')\n"
     ]
    },
    {
     "data": {
      "text/plain": [
       "Index(['id', 'Rank', 'Name', 'OVR', 'PAC', 'SHO', 'PAS', 'DRI', 'DEF', 'PHY',\n",
       "       'Acceleration', 'Sprint Speed', 'Positioning', 'Finishing',\n",
       "       'Shot Power', 'Long Shots', 'Volleys', 'Penalties', 'Vision',\n",
       "       'Crossing', 'Free Kick Accuracy', 'Short Passing', 'Long Passing',\n",
       "       'Curve', 'Dribbling', 'Agility', 'Balance', 'Reactions', 'Ball Control',\n",
       "       'Composure', 'Interceptions', 'Heading Accuracy', 'Def Awareness',\n",
       "       'Standing Tackle', 'Sliding Tackle', 'Jumping', 'Stamina', 'Strength',\n",
       "       'Aggression', 'Position', 'Weak foot', 'Skill moves', 'Preferred foot',\n",
       "       'Height', 'Weight', 'Alternative positions', 'Age', 'Nation', 'League',\n",
       "       'Team', 'play style', 'url', 'GK Diving', 'GK Handling', 'GK Kicking',\n",
       "       'GK Positioning', 'GK Reflexes', 'Unnamed: 57'],\n",
       "      dtype='object')"
      ]
     },
     "execution_count": 84,
     "metadata": {},
     "output_type": "execute_result"
    }
   ],
   "source": [
    "BASE_PATH = './../docs/'\n",
    "df_famales = pd.read_csv(f'{BASE_PATH}female_players.csv', sep=',')\n",
    "df_males = pd.read_csv(f'{BASE_PATH}male_players.csv', sep=',')\n",
    "df_all = pd.read_csv(f'{BASE_PATH}all_players.csv', sep=',')\n",
    "df_all.columns"
   ]
  },
  {
   "cell_type": "markdown",
   "metadata": {},
   "source": [
    "#### Llenar play_styles\n",
    "\n",
    "Vamos a leer los <b>play style</b> y los vamos a colocar en una lista. Esta lista no deberá incluir repetidos. Generar un .txt con los inserts con el contenido de la lista creada para usarlos en esta tabla.\n",
    "\n",
    "```sql\n",
    "CREATE TABLE play_styles (\n",
    "  id\tINTEGER NOT NULL PRIMARY KEY AUTOINCREMENT,\n",
    "  name\tVARCHAR(30)\n",
    ");\n",
    "```"
   ]
  },
  {
   "cell_type": "code",
   "execution_count": 85,
   "metadata": {},
   "outputs": [],
   "source": [
    "rows = df_all['play style'].str.split(',')\n",
    "play_styles = []\n",
    "for array_str in rows:\n",
    "    if isinstance(array_str, list):\n",
    "        for style in array_str:\n",
    "            # remove '* '\n",
    "            if style[0] == ' ':\n",
    "                style = style[1:]\n",
    "            # remove ' *'\n",
    "            if style[len(style) - 1] == ' ':\n",
    "                style = style[:-1]\n",
    "            if style not in play_styles:\n",
    "                play_styles.append(style)\n",
    "text = '-- migrate:up \\n\\n'\n",
    "i = 1\n",
    "for style in play_styles:\n",
    "    text = text + f\"INSERT INTO play_styles (id, name) VALUES ({i}, '{style}');\\n\"\n",
    "    i = i + 1\n",
    "text = text + '\\n-- migrate:down \\n\\nDELETE FROM play_styles;'\n",
    "with open(f'{BASE_PATH}play_styles_inserts.sql', 'w') as archivo:\n",
    "    archivo.write(text)"
   ]
  },
  {
   "cell_type": "markdown",
   "metadata": {},
   "source": [
    "#### Llenar nations\n",
    "\n",
    "Vamos a leer los <b>natios</b> y los vamos a colocar en una lista. Esta lista no deberá incluir repetidos. Generar un .txt con los inserts con el contenido de la lista creada para usarlos en esta tabla.\n",
    "\n",
    "```sql\n",
    "CREATE TABLE nations (\n",
    "  id\tINTEGER NOT NULL PRIMARY KEY AUTOINCREMENT,\n",
    "  name\tVARCHAR(40)\n",
    ");\n",
    "```"
   ]
  },
  {
   "cell_type": "code",
   "execution_count": 86,
   "metadata": {},
   "outputs": [],
   "source": [
    "nations = sorted(list(df_all['Nation'].unique()))\n",
    "text = '-- migrate:up \\n\\n'\n",
    "i = 1\n",
    "for name in nations:\n",
    "    text += \"INSERT INTO nations (id, name) VALUES (\" + str(i) + \", '\" + name + \"');\\n\"\n",
    "    i += 1\n",
    "text += '\\n-- migrate:down \\n\\nDELETE FROM nations;'\n",
    "\n",
    "with open(f'{BASE_PATH}nations_inserts.sql', 'w') as archivo:\n",
    "    archivo.write(text)"
   ]
  },
  {
   "cell_type": "markdown",
   "metadata": {},
   "source": [
    "#### Llenar positions\n",
    "\n",
    "Vamos a leer los <b>positions</b> y los vamos a colocar en una lista. Esta lista no deberá incluir repetidos. Generar un .txt con los inserts con el contenido de la lista creada para usarlos en esta tabla.\n",
    "\n",
    "```sql\n",
    "CREATE TABLE positions (\n",
    "  id\tINTEGER NOT NULL PRIMARY KEY AUTOINCREMENT,\n",
    "  name\tVARCHAR(40)\n",
    ");\n",
    "```"
   ]
  },
  {
   "cell_type": "code",
   "execution_count": 87,
   "metadata": {},
   "outputs": [],
   "source": [
    "# 'Position'  'Alternative positions'\n",
    "\n",
    "positions = sorted(list(df_all['Position'].unique()))\n",
    "positions\n",
    "alternative_positions = df_all['Alternative positions']\n",
    "\n",
    "rows = df_all['Alternative positions'].str.split(',')\n",
    "for array_str in rows:\n",
    "    if isinstance(array_str, list):\n",
    "        for position in array_str:\n",
    "            # remove '* '\n",
    "            if position[0] == ' ':\n",
    "                position = position[1:]\n",
    "            # remove ' *'\n",
    "            if position[len(position) - 1] == ' ':\n",
    "                position = position[:-1]\n",
    "            if position not in positions:\n",
    "                positions.append(position)\n",
    "\n",
    "text = '-- migrate:up \\n\\n'\n",
    "i = 1\n",
    "for name in positions:\n",
    "    text += \"INSERT INTO positions (id, name) VALUES (\" + str(i) + \", '\" + name.replace(\"'\", \"''\") + \"');\\n\"\n",
    "    i = i + 1\n",
    "text = text + '\\n-- migrate:down \\n\\nDELETE FROM positions;'\n",
    "with open(f'{BASE_PATH}positions_inserts.sql', 'w') as archivo:\n",
    "    archivo.write(text)\n",
    "    "
   ]
  },
  {
   "cell_type": "markdown",
   "metadata": {},
   "source": [
    "#### Llenar leagues\n",
    "\n",
    "Vamos a leer los <b>leagues</b> y los vamos a colocar en una lista. Esta lista no deberá incluir repetidos. Generar un .txt con los inserts con el contenido de la lista creada para usarlos en esta tabla.\n",
    "\n",
    "```sql\n",
    "CREATE TABLE leagues (\n",
    "  id\tINTEGER NOT NULL PRIMARY KEY AUTOINCREMENT,\n",
    "  name\tVARCHAR(30),\n",
    "  nation_id\tINTEGER,\n",
    "  FOREIGN KEY (nation_id) REFERENCES nations (id)\n",
    ");\n",
    "```"
   ]
  },
  {
   "cell_type": "code",
   "execution_count": 88,
   "metadata": {},
   "outputs": [
    {
     "name": "stdout",
     "output_type": "stream",
     "text": [
      "Conexión establecida.\n"
     ]
    }
   ],
   "source": [
    "df_leagues_nations = pd.read_csv(f'{BASE_PATH}league_nation.csv', sep=',')\n",
    "leagues = sorted(list(df_all['League'].unique()))\n",
    "text = '-- migrate:up \\n\\n'\n",
    "i = 1\n",
    "for index, row in df_leagues_nations.iterrows():\n",
    "    rs = db.fetchone(f\"SELECT id FROM nations WHERE name = '{row['Nation']}'\")\n",
    "    if rs is not None:\n",
    "        nation_id = rs['id']\n",
    "        name = row['League']\n",
    "        text += \"INSERT INTO leagues (id, name, nation_id) VALUES (\" + str(i) + \", '\" + name.replace(\"'\", \"''\") + \"', \" + str(nation_id) + \");\\n\"\n",
    "        i = i + 1\n",
    "        #print(f\"Index: {index}, League: {row['League']}, Nation: {row['Nation']}, NationID: {nation_id}\")\n",
    "    else:\n",
    "        print(f\"Nation '{row['Nation']}' not found in the database.\")\n",
    "text = text + '\\n-- migrate:down \\n\\nDELETE FROM leagues;'\n",
    "with open(f'{BASE_PATH}leagues_inserts.sql', 'w', encoding='utf-8') as archivo:\n",
    "    archivo.write(text)"
   ]
  },
  {
   "cell_type": "markdown",
   "metadata": {},
   "source": [
    "#### Llenar teams\n",
    "\n",
    "Vamos a leer los <b>teams</b> y los vamos a colocar en una lista. Esta lista no deberá incluir repetidos. Generar un .txt con los inserts con el contenido de la lista creada para usarlos en esta tabla.\n",
    "\n",
    "```sql\n",
    "CREATE TABLE teams (\n",
    "  id\tINTEGER NOT NULL PRIMARY KEY AUTOINCREMENT,\n",
    "  name\tVARCHAR(40),\n",
    "  league_id\tINTEGER NOT NULL,\n",
    "  FOREIGN KEY (league_id) REFERENCES leagues (id)\n",
    ");\n",
    "```"
   ]
  },
  {
   "cell_type": "code",
   "execution_count": 106,
   "metadata": {},
   "outputs": [],
   "source": [
    "\n",
    "teams_leagues = df_all[['id','Team', 'League']].to_numpy()\n",
    "teams_list = []\n",
    "for tl in teams_leagues:\n",
    "  team = tl[1]\n",
    "  league = tl[2].replace(\"'\", \"''\")\n",
    "  query = f\"SELECT id FROM leagues WHERE name = '{league}'\"\n",
    "  rs = db.fetchone(query)\n",
    "  i = 1\n",
    "  if rs is not None:\n",
    "    league_id = rs['id']\n",
    "    if len(str(league_id)) == 1:\n",
    "      league_id = '0' + str(league_id)\n",
    "    else:\n",
    "      league_id = str(league_id)\n",
    "    tmp = league_id + '::' + team + '::' + league\n",
    "    if tmp not in teams_list:\n",
    "      teams_list.append(tmp)\n",
    "  else:\n",
    "      print(f\"Leage '{league}' not found in the database.\")\n",
    "teams_list.sort()\n",
    "# inserts\n",
    "i = 1\n",
    "text = '-- migrate:up \\n\\n'\n",
    "for t in teams_list:\n",
    "  data_list = t.split('::')\n",
    "  team = data_list[1]\n",
    "  league = data_list[2]\n",
    "  league_id = int(data_list[0])\n",
    "  text += \"INSERT INTO teams (id, name, league_id) VALUES (\" + str(i) + \", '\" + team.replace(\"'\", \"''\") + \"', \" + str(league_id) + \");\\n\"\n",
    "  i = i + 1\n",
    "text = text + '\\n-- migrate:down \\n\\nDELETE FROM teams;'\n",
    "with open(f'{BASE_PATH}teams_inserts.sql', 'w', encoding='utf-8') as archivo:\n",
    "    archivo.write(text)\n"
   ]
  }
 ],
 "metadata": {
  "kernelspec": {
   "display_name": "env",
   "language": "python",
   "name": "python3"
  },
  "language_info": {
   "codemirror_mode": {
    "name": "ipython",
    "version": 3
   },
   "file_extension": ".py",
   "mimetype": "text/x-python",
   "name": "python",
   "nbconvert_exporter": "python",
   "pygments_lexer": "ipython3",
   "version": "3.10.12"
  }
 },
 "nbformat": 4,
 "nbformat_minor": 2
}
